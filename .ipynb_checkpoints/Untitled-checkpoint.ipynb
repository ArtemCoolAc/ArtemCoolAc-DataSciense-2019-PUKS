{
 "cells": [
  {
   "cell_type": "code",
   "execution_count": 102,
   "metadata": {},
   "outputs": [],
   "source": [
    "import PyPDF2\n",
    "import re\n",
    "import csv\n",
    "import datetime"
   ]
  },
  {
   "cell_type": "code",
   "execution_count": 103,
   "metadata": {},
   "outputs": [],
   "source": [
    "dict_line = {'FROM_Validity':'01 Nov - 31 Jan',\n",
    "             'TO_Validity':'01 Nov - 31 Jan',\n",
    "             'Days':'1234567', \n",
    "             'DepTime':'06:00',\n",
    "             'ArrTime':'07:25',\n",
    "             'Flight':'KL1328', \n",
    "             'Aircraft':'73W',\n",
    "             'TravelTime':'1H25M',}\n",
    "month = {'Nov':11,'Dec':12,'Jan':1}\n",
    "def get_line():\n",
    "    line = \"\"\n",
    "    for key in dict_line:\n",
    "        line += dict_line[key] + ','\n",
    "    line = line[0:-1]\n",
    "    return line"
   ]
  },
  {
   "cell_type": "code",
   "execution_count": 106,
   "metadata": {},
   "outputs": [
    {
     "name": "stdout",
     "output_type": "stream",
     "text": [
      "09 Nov  -  09 Nov          606:0010:56DL10987392H56M22 Dec  -  02 Jan1    456706:0011:02DL1452M903H2M03 Jan  -  04 Jan        5606:0011:02DL2184M903H2M05 Jan  -  31 Jan123456706:0511:05DL21847393H0M01 Nov  -  02 Nov        5606:1511:08DL12317392H53M03 Nov  -  03 Nov            706:1511:06DL12317392H51M04 Nov  -  15 Nov1234506:1511:06DL10987392H51M10 Nov  -  10 Nov            706:1511:03DL10987392H48M16 Nov  -  19 Nov12      606:1511:06DL10987392H51M17 Nov  -  23 Nov        56706:1511:03DL10987392H48M20 Nov  -  26 Nov1234    706:1511:06DL10987392H51M24 Dec  -  01 Jan  2306:1511:13DL1452M902H58M27 Nov  -  21 Dec  2345606:3011:22DL14527392H52M01 Dec  -  15 Dec            706:3011:21DL14527392H51M23 Dec  -  02 Jan1    45611:5016:48DL1185M902H58M11 Nov  -  11 Nov112:0116:56DL11857392H55M22 Dec  -  29 Dec            712:1117:10DL1185M902H59M23 Nov  -  23 Nov          612:5917:55DL11857392H56M12 Nov  -  16 Nov  2345613:0118:00DL11857392H59M20 Nov  -  26 Nov  234    713:0118:00DL11857392H59M25 Nov  -  25 Nov113:0117:59DL11857392H58M06 Jan  -  18 Jan12  45613:2518:23DL21467392H58M21 Jan  -  31 Jan12  45613:2518:23DL21467392H58M27 Nov  -  21 Dec12345613:2818:25DL11857392H57M01 Dec  -  15 Dec            713:2818:23DL11857392H55M10 Nov  -  17 Nov            714:0019:00DL9507393H0M18 Nov  -  19 Nov1214:0019:03DL9507393H3M24 Dec  -  01 Jan  2314:0019:03DL1185M903H3M03 Jan  -  04 Jan        5614:0018:58DL2146M902H58M01 Nov  -  02 Nov        5616:1421:10DL14527392H56M03 Nov  -  03 Nov            716:1821:13DL14527392H55M22 Dec  -  02 Jan1    456716:4621:45DL1425M902H59M04 Nov  -  16 Nov12345616:4821:45DL14527392H57M20 Nov  -  26 Nov1234    716:4821:45DL14527392H57M09 Nov  -  09 Nov          606:0010:56DL10987392H56M22 Dec  -  02 Jan1    456706:0011:02DL1452M903H2M03 Jan  -  04 Jan        5606:0011:02DL2184M903H2M05 Jan  -  31 Jan123456706:0511:05DL21847393H0M01 Nov  -  02 Nov        5606:1511:08DL12317392H53M03 Nov  -  03 Nov            706:1511:06DL12317392H51M04 Nov  -  15 Nov1234506:1511:06DL10987392H51M10 Nov  -  10 Nov            706:1511:03DL10987392H48M16 Nov  -  19 Nov12      606:1511:06DL10987392H51M17 Nov  -  23 Nov        56706:1511:03DL10987392H48M20 Nov  -  26 Nov1234    706:1511:06DL10987392H51M24 Dec  -  01 Jan  2306:1511:13DL1452M902H58MFROM:Atlanta GA , United States ofATLTO:Albuquerque NM , United States ofABQValidityDaysDepTimeArrTimeFlightAircraftTravelTime23 Dec  -  02 Jan1    45609:2911:00DL1185M903H31M24 Dec  -  31 Dec  209:2910:57DL1185M903H28M03 Jan  -  04 Jan        5609:2911:00DL2146M903H31M04 Nov  -  04 Nov109:4011:07DL11857393H27M11 Nov  -  11 Nov109:4011:03DL11857393H23M18 Nov  -  18 Nov109:4011:07DL11857393H27M25 Dec  -  01 Jan    309:4411:17DL1185M903H33M22 Dec  -  29 Dec            709:5111:27DL972M903H36M01 Nov  -  02 Nov        5609:5811:15DL8197393H17M03 Nov  -  03 Nov            709:5811:12DL8197393H14M10 Nov  -  17 Nov            710:3311:58DL11857393H25M22 Nov  -  23 Nov        5610:3311:58DL11857393H25M05 Nov  -  21 Nov  2345610:3512:03DL11857393H28M24 Nov  -  26 Nov12        710:3512:03DL11857393H28M27 Nov  -  21 Dec12345610:5812:30DL11857393H32M01 Dec  -  15 Dec            710:5812:27DL11857393H29M06 Jan  -  18 Jan12  45611:0112:25DL21467393H24M21 Jan  -  31 Jan12  45611:0112:25DL21467393H24M11 Nov  -  16 Nov12345614:2415:50DL14527393H26M20 Nov  -  26 Nov1234    714:2415:50DL14527393H26M22 Dec  -  02 Jan1    456714:2616:02DL1425M903H36M23 Nov  -  23 Nov          615:2516:52DL14527393H27M10 Nov  -  17 Nov            719:0120:26DL13227393H25M24 Dec  -  01 Jan  2319:5021:23DL2216M903H33M02 Nov  -  02 Nov          619:5221:13DL13227393H21M03 Nov  -  03 Nov            719:5221:11DL13227393H19M22 Dec  -  02 Jan1    456719:5221:25DL2216M903H33M03 Jan  -  04 Jan        5619:5221:25DL2123M903H33M01 Nov  -  01 Nov        519:5321:14DL13227393H21M05 Jan  -  31 Jan123456719:5321:20DL21237393H27M27 Nov  -  30 Nov    345619:5621:25DL22167393H29M02 Dec  -  21 Dec12345619:5921:28DL22167393H29M04 Nov  -  21 Nov12345620:0221:34DL13227393H32M24 Nov  -  26 Nov12        720:0221:34DL13227393H32M23 Dec  -  02 Jan1    45609:2911:00DL1185M903H31M24 Dec  -  31 Dec  209:2910:57DL1185M903H28M03 Jan  -  04 Jan        5609:2911:00DL2146M903H31M04 Nov  -  04 Nov109:4011:07DL11857393H27M11 Nov  -  11 Nov109:4011:03DL11857393H23M18 Nov  -  18 Nov109:4011:07DL11857393H27M25 Dec  -  01 Jan    309:4411:17DL1185M903H33M22 Dec  -  29 Dec            709:5111:27DL972M903H36M01 Nov  -  02 Nov        5609:5811:15DL8197393H17M03 Nov  -  03 Nov            709:5811:12DL8197393H14M10 Nov  -  17 Nov            710:3311:58DL11857393H25M22 Nov  -  23 Nov        5610:3311:58DL11857393H25M\n"
     ]
    }
   ],
   "source": [
    "Data_Fly = re.compile('\\d{2} \\w{3}  -  \\d{2} \\w{3}\\\n",
    "[ \\d]{7,20}\\\n",
    "\\d{2}:\\d{2}\\\n",
    "\\d{2}:\\d{2}\\\n",
    "[A-Z]{2}\\d{4}\\\n",
    "\\w{3}\\\n",
    "\\d{1,2}H\\d{1,2}M')\n",
    "Data_Fly1 = re.compile('\\d{2} \\w{3}  -  \\d{2} \\w{3}.*\\dH\\d{1,2}M')\n",
    "Data_Validity = re.compile('\\d{2} \\w{3}')\n",
    "Data_Days = re.compile('[ \\d]{7,20}')\n",
    "Data_Time = re.compile('\\d{2}:\\d{2}')\n",
    "Data_Flight = re.compile('[A-Z]{2}\\d{3,4}')\n",
    "Data_Aircraft = re.compile('\\w{3}')\n",
    "Data_TravelTime = re.compile('\\dH\\d{1,2}M')\n",
    "for i in Data_Fly1.findall(text):\n",
    "    print(i)\n"
   ]
  },
  {
   "cell_type": "code",
   "execution_count": 104,
   "metadata": {},
   "outputs": [
    {
     "ename": "SyntaxError",
     "evalue": "invalid syntax (<ipython-input-104-c98db2bf38d7>, line 4)",
     "output_type": "error",
     "traceback": [
      "\u001b[1;36m  File \u001b[1;32m\"<ipython-input-104-c98db2bf38d7>\"\u001b[1;36m, line \u001b[1;32m4\u001b[0m\n\u001b[1;33m    dict_line['TO_Validity'] = datetime.data(2017,Data_Validity.findall(i)[1][-3:],int(Data_Validity.findall(i)[1][0:2])\u001b[0m\n\u001b[1;37m            ^\u001b[0m\n\u001b[1;31mSyntaxError\u001b[0m\u001b[1;31m:\u001b[0m invalid syntax\n"
     ]
    }
   ],
   "source": [
    "def parsing():\n",
    "    for i in Data_Fly1.findall(text):\n",
    "        dict_line['FROM_Validity'] = datetime.data(2017,Data_Validity.findall(i)[0][-3:],int(Data_Validity.findall(i)[0][0:2])\n",
    "        dict_line['TO_Validity'] = datetime.data(2017,Data_Validity.findall(i)[1][-3:],int(Data_Validity.findall(i)[1][0:2])\n",
    "        i = i[17:]\n",
    "        dict_line['DepTime'] = Data_Time.findall(i)[0]\n",
    "        dict_line['ArrTime'] = Data_Time.findall(i)[1]\n",
    "        i = i[0:i.find(dict_line['DepTime'])] + i[i.find(dict_line['DepTime'])+5:]\n",
    "        i = i[0:i.find(dict_line['ArrTime'])] + i[i.find(dict_line['ArrTime'])+5:]\n",
    "        dict_line['TravelTime'] = Data_TravelTime.findall(i)[0]\n",
    "        i = i[0:i.find(dict_line['TravelTime'])]\n",
    "        dict_line['Flight'] = Data_Flight.findall(i)[0]\n",
    "        i = i[0:i.find(dict_line['Flight'])] + i[i.find(dict_line['Flight'])+6:]\n",
    "        dict_line['Aircraft'] = i[-3:]\n",
    "        dict_line['Days'] = i[0:-3]\n",
    "        fg.write(get_line()+\"\\n\")"
   ]
  },
  {
   "cell_type": "code",
   "execution_count": 105,
   "metadata": {},
   "outputs": [
    {
     "name": "stdout",
     "output_type": "stream",
     "text": [
      "[||||||||||||||||||||||||||||||||||||||||||||||||||||||||||||||||||||||||||||||||||||||||||||||||||||||||||||||||||||||||||||||||||||||||||||||||||||||||||||||||||||||||||||||||||||||||||||||||||||||||||||||||||||||||||||||||||||||||||||||||||||||||||||||||||||||||||||||||||||||||||||||||||||||||||||||||||||||||||||||||||||||||||||||||||||||||||||||||||||"
     ]
    },
    {
     "ename": "KeyboardInterrupt",
     "evalue": "",
     "output_type": "error",
     "traceback": [
      "\u001b[1;31m---------------------------------------------------------------------------\u001b[0m",
      "\u001b[1;31mKeyboardInterrupt\u001b[0m                         Traceback (most recent call last)",
      "\u001b[1;32m<ipython-input-105-220ba37c56c0>\u001b[0m in \u001b[0;36m<module>\u001b[1;34m\u001b[0m\n\u001b[0;32m      6\u001b[0m         \u001b[1;32mfor\u001b[0m \u001b[0mi\u001b[0m \u001b[1;32min\u001b[0m \u001b[0mrange\u001b[0m\u001b[1;33m(\u001b[0m\u001b[1;36m4\u001b[0m\u001b[1;33m,\u001b[0m\u001b[1;36m27515\u001b[0m\u001b[1;33m)\u001b[0m\u001b[1;33m:\u001b[0m\u001b[1;33m\u001b[0m\u001b[1;33m\u001b[0m\u001b[0m\n\u001b[0;32m      7\u001b[0m             \u001b[0mgetpage\u001b[0m \u001b[1;33m=\u001b[0m \u001b[0mplread\u001b[0m\u001b[1;33m.\u001b[0m\u001b[0mgetPage\u001b[0m\u001b[1;33m(\u001b[0m\u001b[0mi\u001b[0m\u001b[1;33m)\u001b[0m\u001b[1;33m\u001b[0m\u001b[1;33m\u001b[0m\u001b[0m\n\u001b[1;32m----> 8\u001b[1;33m             \u001b[0mtext\u001b[0m \u001b[1;33m=\u001b[0m \u001b[0mgetpage\u001b[0m\u001b[1;33m.\u001b[0m\u001b[0mextractText\u001b[0m\u001b[1;33m(\u001b[0m\u001b[1;33m)\u001b[0m\u001b[1;33m\u001b[0m\u001b[1;33m\u001b[0m\u001b[0m\n\u001b[0m\u001b[0;32m      9\u001b[0m             \u001b[0mprint\u001b[0m\u001b[1;33m(\u001b[0m\u001b[1;34m'|'\u001b[0m\u001b[1;33m,\u001b[0m\u001b[0mend\u001b[0m\u001b[1;33m=\u001b[0m\u001b[1;34m''\u001b[0m\u001b[1;33m)\u001b[0m\u001b[1;33m\u001b[0m\u001b[1;33m\u001b[0m\u001b[0m\n\u001b[0;32m     10\u001b[0m             \u001b[0mparsing\u001b[0m\u001b[1;33m(\u001b[0m\u001b[1;33m)\u001b[0m\u001b[1;33m\u001b[0m\u001b[1;33m\u001b[0m\u001b[0m\n",
      "\u001b[1;32mC:\\Anaconda3\\lib\\site-packages\\PyPDF2\\pdf.py\u001b[0m in \u001b[0;36mextractText\u001b[1;34m(self)\u001b[0m\n\u001b[0;32m   2593\u001b[0m         \u001b[0mcontent\u001b[0m \u001b[1;33m=\u001b[0m \u001b[0mself\u001b[0m\u001b[1;33m[\u001b[0m\u001b[1;34m\"/Contents\"\u001b[0m\u001b[1;33m]\u001b[0m\u001b[1;33m.\u001b[0m\u001b[0mgetObject\u001b[0m\u001b[1;33m(\u001b[0m\u001b[1;33m)\u001b[0m\u001b[1;33m\u001b[0m\u001b[1;33m\u001b[0m\u001b[0m\n\u001b[0;32m   2594\u001b[0m         \u001b[1;32mif\u001b[0m \u001b[1;32mnot\u001b[0m \u001b[0misinstance\u001b[0m\u001b[1;33m(\u001b[0m\u001b[0mcontent\u001b[0m\u001b[1;33m,\u001b[0m \u001b[0mContentStream\u001b[0m\u001b[1;33m)\u001b[0m\u001b[1;33m:\u001b[0m\u001b[1;33m\u001b[0m\u001b[1;33m\u001b[0m\u001b[0m\n\u001b[1;32m-> 2595\u001b[1;33m             \u001b[0mcontent\u001b[0m \u001b[1;33m=\u001b[0m \u001b[0mContentStream\u001b[0m\u001b[1;33m(\u001b[0m\u001b[0mcontent\u001b[0m\u001b[1;33m,\u001b[0m \u001b[0mself\u001b[0m\u001b[1;33m.\u001b[0m\u001b[0mpdf\u001b[0m\u001b[1;33m)\u001b[0m\u001b[1;33m\u001b[0m\u001b[1;33m\u001b[0m\u001b[0m\n\u001b[0m\u001b[0;32m   2596\u001b[0m         \u001b[1;31m# Note: we check all strings are TextStringObjects.  ByteStringObjects\u001b[0m\u001b[1;33m\u001b[0m\u001b[1;33m\u001b[0m\u001b[1;33m\u001b[0m\u001b[0m\n\u001b[0;32m   2597\u001b[0m         \u001b[1;31m# are strings where the byte->string encoding was unknown, so adding\u001b[0m\u001b[1;33m\u001b[0m\u001b[1;33m\u001b[0m\u001b[1;33m\u001b[0m\u001b[0m\n",
      "\u001b[1;32mC:\\Anaconda3\\lib\\site-packages\\PyPDF2\\pdf.py\u001b[0m in \u001b[0;36m__init__\u001b[1;34m(self, stream, pdf)\u001b[0m\n\u001b[0;32m   2672\u001b[0m         \u001b[1;32melse\u001b[0m\u001b[1;33m:\u001b[0m\u001b[1;33m\u001b[0m\u001b[1;33m\u001b[0m\u001b[0m\n\u001b[0;32m   2673\u001b[0m             \u001b[0mstream\u001b[0m \u001b[1;33m=\u001b[0m \u001b[0mBytesIO\u001b[0m\u001b[1;33m(\u001b[0m\u001b[0mb_\u001b[0m\u001b[1;33m(\u001b[0m\u001b[0mstream\u001b[0m\u001b[1;33m.\u001b[0m\u001b[0mgetData\u001b[0m\u001b[1;33m(\u001b[0m\u001b[1;33m)\u001b[0m\u001b[1;33m)\u001b[0m\u001b[1;33m)\u001b[0m\u001b[1;33m\u001b[0m\u001b[1;33m\u001b[0m\u001b[0m\n\u001b[1;32m-> 2674\u001b[1;33m         \u001b[0mself\u001b[0m\u001b[1;33m.\u001b[0m\u001b[0m__parseContentStream\u001b[0m\u001b[1;33m(\u001b[0m\u001b[0mstream\u001b[0m\u001b[1;33m)\u001b[0m\u001b[1;33m\u001b[0m\u001b[1;33m\u001b[0m\u001b[0m\n\u001b[0m\u001b[0;32m   2675\u001b[0m \u001b[1;33m\u001b[0m\u001b[0m\n\u001b[0;32m   2676\u001b[0m     \u001b[1;32mdef\u001b[0m \u001b[0m__parseContentStream\u001b[0m\u001b[1;33m(\u001b[0m\u001b[0mself\u001b[0m\u001b[1;33m,\u001b[0m \u001b[0mstream\u001b[0m\u001b[1;33m)\u001b[0m\u001b[1;33m:\u001b[0m\u001b[1;33m\u001b[0m\u001b[1;33m\u001b[0m\u001b[0m\n",
      "\u001b[1;32mC:\\Anaconda3\\lib\\site-packages\\PyPDF2\\pdf.py\u001b[0m in \u001b[0;36m__parseContentStream\u001b[1;34m(self, stream)\u001b[0m\n\u001b[0;32m   2704\u001b[0m                     \u001b[0mpeek\u001b[0m \u001b[1;33m=\u001b[0m \u001b[0mstream\u001b[0m\u001b[1;33m.\u001b[0m\u001b[0mread\u001b[0m\u001b[1;33m(\u001b[0m\u001b[1;36m1\u001b[0m\u001b[1;33m)\u001b[0m\u001b[1;33m\u001b[0m\u001b[1;33m\u001b[0m\u001b[0m\n\u001b[0;32m   2705\u001b[0m             \u001b[1;32melse\u001b[0m\u001b[1;33m:\u001b[0m\u001b[1;33m\u001b[0m\u001b[1;33m\u001b[0m\u001b[0m\n\u001b[1;32m-> 2706\u001b[1;33m                 \u001b[0moperands\u001b[0m\u001b[1;33m.\u001b[0m\u001b[0mappend\u001b[0m\u001b[1;33m(\u001b[0m\u001b[0mreadObject\u001b[0m\u001b[1;33m(\u001b[0m\u001b[0mstream\u001b[0m\u001b[1;33m,\u001b[0m \u001b[1;32mNone\u001b[0m\u001b[1;33m)\u001b[0m\u001b[1;33m)\u001b[0m\u001b[1;33m\u001b[0m\u001b[1;33m\u001b[0m\u001b[0m\n\u001b[0m\u001b[0;32m   2707\u001b[0m \u001b[1;33m\u001b[0m\u001b[0m\n\u001b[0;32m   2708\u001b[0m     \u001b[1;32mdef\u001b[0m \u001b[0m_readInlineImage\u001b[0m\u001b[1;33m(\u001b[0m\u001b[0mself\u001b[0m\u001b[1;33m,\u001b[0m \u001b[0mstream\u001b[0m\u001b[1;33m)\u001b[0m\u001b[1;33m:\u001b[0m\u001b[1;33m\u001b[0m\u001b[1;33m\u001b[0m\u001b[0m\n",
      "\u001b[1;32mC:\\Anaconda3\\lib\\site-packages\\PyPDF2\\generic.py\u001b[0m in \u001b[0;36mreadObject\u001b[1;34m(stream, pdf)\u001b[0m\n\u001b[0;32m     75\u001b[0m     \u001b[1;32melif\u001b[0m \u001b[0midx\u001b[0m \u001b[1;33m==\u001b[0m \u001b[1;36m5\u001b[0m\u001b[1;33m:\u001b[0m\u001b[1;33m\u001b[0m\u001b[1;33m\u001b[0m\u001b[0m\n\u001b[0;32m     76\u001b[0m         \u001b[1;31m# string object\u001b[0m\u001b[1;33m\u001b[0m\u001b[1;33m\u001b[0m\u001b[1;33m\u001b[0m\u001b[0m\n\u001b[1;32m---> 77\u001b[1;33m         \u001b[1;32mreturn\u001b[0m \u001b[0mreadStringFromStream\u001b[0m\u001b[1;33m(\u001b[0m\u001b[0mstream\u001b[0m\u001b[1;33m)\u001b[0m\u001b[1;33m\u001b[0m\u001b[1;33m\u001b[0m\u001b[0m\n\u001b[0m\u001b[0;32m     78\u001b[0m     \u001b[1;32melif\u001b[0m \u001b[0midx\u001b[0m \u001b[1;33m==\u001b[0m \u001b[1;36m6\u001b[0m\u001b[1;33m:\u001b[0m\u001b[1;33m\u001b[0m\u001b[1;33m\u001b[0m\u001b[0m\n\u001b[0;32m     79\u001b[0m         \u001b[1;31m# null object\u001b[0m\u001b[1;33m\u001b[0m\u001b[1;33m\u001b[0m\u001b[1;33m\u001b[0m\u001b[0m\n",
      "\u001b[1;32mC:\\Anaconda3\\lib\\site-packages\\PyPDF2\\generic.py\u001b[0m in \u001b[0;36mreadStringFromStream\u001b[1;34m(stream)\u001b[0m\n\u001b[0;32m    390\u001b[0m                 \u001b[1;32mraise\u001b[0m \u001b[0mutils\u001b[0m\u001b[1;33m.\u001b[0m\u001b[0mPdfReadError\u001b[0m\u001b[1;33m(\u001b[0m\u001b[1;34mr\"Unexpected escaped string: %s\"\u001b[0m \u001b[1;33m%\u001b[0m \u001b[0mtok\u001b[0m\u001b[1;33m)\u001b[0m\u001b[1;33m\u001b[0m\u001b[1;33m\u001b[0m\u001b[0m\n\u001b[0;32m    391\u001b[0m         \u001b[0mtxt\u001b[0m \u001b[1;33m+=\u001b[0m \u001b[0mtok\u001b[0m\u001b[1;33m\u001b[0m\u001b[1;33m\u001b[0m\u001b[0m\n\u001b[1;32m--> 392\u001b[1;33m     \u001b[1;32mreturn\u001b[0m \u001b[0mcreateStringObject\u001b[0m\u001b[1;33m(\u001b[0m\u001b[0mtxt\u001b[0m\u001b[1;33m)\u001b[0m\u001b[1;33m\u001b[0m\u001b[1;33m\u001b[0m\u001b[0m\n\u001b[0m\u001b[0;32m    393\u001b[0m \u001b[1;33m\u001b[0m\u001b[0m\n\u001b[0;32m    394\u001b[0m \u001b[1;33m\u001b[0m\u001b[0m\n",
      "\u001b[1;32mC:\\Anaconda3\\lib\\site-packages\\PyPDF2\\generic.py\u001b[0m in \u001b[0;36mcreateStringObject\u001b[1;34m(string)\u001b[0m\n\u001b[0;32m    293\u001b[0m                 \u001b[1;31m# to try.  Some strings are strings, some are just byte arrays.\u001b[0m\u001b[1;33m\u001b[0m\u001b[1;33m\u001b[0m\u001b[1;33m\u001b[0m\u001b[0m\n\u001b[0;32m    294\u001b[0m                 \u001b[0mretval\u001b[0m \u001b[1;33m=\u001b[0m \u001b[0mTextStringObject\u001b[0m\u001b[1;33m(\u001b[0m\u001b[0mdecode_pdfdocencoding\u001b[0m\u001b[1;33m(\u001b[0m\u001b[0mstring\u001b[0m\u001b[1;33m)\u001b[0m\u001b[1;33m)\u001b[0m\u001b[1;33m\u001b[0m\u001b[1;33m\u001b[0m\u001b[0m\n\u001b[1;32m--> 295\u001b[1;33m                 \u001b[0mretval\u001b[0m\u001b[1;33m.\u001b[0m\u001b[0mautodetect_pdfdocencoding\u001b[0m \u001b[1;33m=\u001b[0m \u001b[1;32mTrue\u001b[0m\u001b[1;33m\u001b[0m\u001b[1;33m\u001b[0m\u001b[0m\n\u001b[0m\u001b[0;32m    296\u001b[0m                 \u001b[1;32mreturn\u001b[0m \u001b[0mretval\u001b[0m\u001b[1;33m\u001b[0m\u001b[1;33m\u001b[0m\u001b[0m\n\u001b[0;32m    297\u001b[0m         \u001b[1;32mexcept\u001b[0m \u001b[0mUnicodeDecodeError\u001b[0m\u001b[1;33m:\u001b[0m\u001b[1;33m\u001b[0m\u001b[1;33m\u001b[0m\u001b[0m\n",
      "\u001b[1;31mKeyboardInterrupt\u001b[0m: "
     ]
    }
   ],
   "source": [
    "print('[',end='')\n",
    "with open('page5_pdf.csv', 'w', encoding='utf-8') as fg:\n",
    "    fg.write(\"Validity,Days,DepTime,ArrTime,Flight,Aircraft,TravelTime\\n\")\n",
    "    with open('Skyteam_Timetable.pdf', 'rb') as pl:\n",
    "        plread = PyPDF2.PdfFileReader(pl)\n",
    "        for i in range(4,27515):\n",
    "            getpage = plread.getPage(i)\n",
    "            text = getpage.extractText()\n",
    "            print('|',end='')\n",
    "            parsing()\n",
    "print(']',end='')"
   ]
  },
  {
   "cell_type": "code",
   "execution_count": null,
   "metadata": {},
   "outputs": [],
   "source": []
  }
 ],
 "metadata": {
  "kernelspec": {
   "display_name": "Python 3",
   "language": "python",
   "name": "python3"
  },
  "language_info": {
   "codemirror_mode": {
    "name": "ipython",
    "version": 3
   },
   "file_extension": ".py",
   "mimetype": "text/x-python",
   "name": "python",
   "nbconvert_exporter": "python",
   "pygments_lexer": "ipython3",
   "version": "3.7.3"
  }
 },
 "nbformat": 4,
 "nbformat_minor": 2
}
